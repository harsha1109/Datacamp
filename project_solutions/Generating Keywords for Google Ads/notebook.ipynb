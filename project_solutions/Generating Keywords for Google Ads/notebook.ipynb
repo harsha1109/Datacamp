{
 "cells": [
  {
   "cell_type": "markdown",
   "metadata": {
    "deletable": false,
    "dc": {
     "key": "4"
    },
    "run_control": {
     "frozen": true
    },
    "editable": false,
    "tags": [
     "context"
    ]
   },
   "source": [
    "## 1. The brief\n<p>Imagine working for a digital marketing agency, and the agency is approached by a massive online retailer of furniture. They want to test our skills at creating large campaigns for all of their website. We are tasked with creating a prototype set of keywords for search campaigns for their sofas section. The client says that they want us to generate keywords for the following products: </p>\n<ul>\n<li>sofas</li>\n<li>convertible sofas</li>\n<li>love seats</li>\n<li>recliners</li>\n<li>sofa beds</li>\n</ul>\n<p><strong>The brief</strong>: The client is generally a low-cost retailer, offering many promotions and discounts. We will need to focus on such keywords. We will also need to move away from luxury keywords and topics, as we are targeting price-sensitive customers. Because we are going to be tight on budget, it would be good to focus on a tightly targeted set of keywords and make sure they are all set to exact and phrase match.</p>\n<p>Based on the brief above we will first need to generate a list of words, that together with the products given above would make for good keywords. Here are some examples:</p>\n<ul>\n<li>Products: sofas, recliners</li>\n<li>Words: buy, prices</li>\n</ul>\n<p>The resulting keywords: 'buy sofas', 'sofas buy', 'buy recliners', 'recliners buy',\n          'prices sofas', 'sofas prices', 'prices recliners', 'recliners prices'.</p>\n<p>As a final result, we want to have a DataFrame that looks like this: </p>\n<table>\n<thead>\n<tr>\n<th>Campaign</th>\n<th>Ad Group</th>\n<th>Keyword</th>\n<th>Criterion Type</th>\n</tr>\n</thead>\n<tbody>\n<tr>\n<td>Campaign1</td>\n<td>AdGroup_1</td>\n<td>keyword 1a</td>\n<td>Exact</td>\n</tr>\n<tr>\n<td>Campaign1</td>\n<td>AdGroup_1</td>\n<td>keyword 1a</td>\n<td>Phrase</td>\n</tr>\n<tr>\n<td>Campaign1</td>\n<td>AdGroup_1</td>\n<td>keyword 1b</td>\n<td>Exact</td>\n</tr>\n<tr>\n<td>Campaign1</td>\n<td>AdGroup_1</td>\n<td>keyword 1b</td>\n<td>Phrase</td>\n</tr>\n<tr>\n<td>Campaign1</td>\n<td>AdGroup_2</td>\n<td>keyword 2a</td>\n<td>Exact</td>\n</tr>\n<tr>\n<td>Campaign1</td>\n<td>AdGroup_2</td>\n<td>keyword 2a</td>\n<td>Phrase</td>\n</tr>\n</tbody>\n</table>\n<p>The first step is to come up with a list of words that users might use to express their desire in buying low-cost sofas.</p>"
   ]
  },
  {
   "cell_type": "code",
   "execution_count": 1,
   "metadata": {
    "tags": [
     "sample_code"
    ],
    "trusted": true,
    "dc": {
     "key": "4"
    }
   },
   "outputs": [
    {
     "name": "stdout",
     "output_type": "stream",
     "text": [
      "['buy', 'price', 'discount', 'promotion', 'promo', 'shop', 'prices', 'bought']\n"
     ]
    }
   ],
   "source": [
    "# List of words to pair with products\n",
    "words = ['buy', 'price', 'discount', 'promotion', 'promo', 'shop','prices','bought']\n",
    "\n",
    "# Print list of words\n",
    "print(words)\n",
    "# ... YOUR CODE FOR TASK 1 ..."
   ]
  },
  {
   "cell_type": "markdown",
   "metadata": {
    "deletable": false,
    "dc": {
     "key": "11"
    },
    "run_control": {
     "frozen": true
    },
    "editable": false,
    "tags": [
     "context"
    ]
   },
   "source": [
    "## 2. Combine the words with the product names\n<p>Imagining all the possible combinations of keywords can be stressful! But not for us, because we are keyword ninjas! We know how to translate campaign briefs into Python data structures and can imagine the resulting DataFrames that we need to create.</p>\n<p>Now that we have brainstormed the words that work well with the brief that we received, it is now time to combine them with the product names to generate meaningful search keywords. We want to combine every word with every product once before, and once after, as seen in the example above.</p>\n<p>As a quick reminder, for the product 'recliners' and the words 'buy' and 'price' for example, we would want to generate the following combinations: </p>\n<p>buy recliners<br>\nrecliners buy<br>\nprice recliners<br>\nrecliners price<br>\n...  </p>\n<p>and so on for all the words and products that we have.</p>"
   ]
  },
  {
   "cell_type": "code",
   "execution_count": 6,
   "metadata": {
    "tags": [
     "sample_code"
    ],
    "trusted": true,
    "dc": {
     "key": "11"
    }
   },
   "outputs": [
    {
     "name": "stdout",
     "output_type": "stream",
     "text": [
      "[['sofas', 'sofas buy'],\n ['sofas', 'buy sofas'],\n ['sofas', 'sofas price'],\n ['sofas', 'price sofas'],\n ['sofas', 'sofas discount'],\n ['sofas', 'discount sofas'],\n ['sofas', 'sofas promotion'],\n ['sofas', 'promotion sofas'],\n ['sofas', 'sofas promo'],\n ['sofas', 'promo sofas'],\n ['sofas', 'sofas shop'],\n ['sofas', 'shop sofas'],\n ['sofas', 'sofas prices'],\n ['sofas', 'prices sofas'],\n ['sofas', 'sofas bought'],\n ['sofas', 'bought sofas'],\n ['convertible sofas', 'convertible sofas buy'],\n ['convertible sofas', 'buy convertible sofas'],\n ['convertible sofas', 'convertible sofas price'],\n ['convertible sofas', 'price convertible sofas'],\n ['convertible sofas', 'convertible sofas discount'],\n ['convertible sofas', 'discount convertible sofas'],\n ['convertible sofas', 'convertible sofas promotion'],\n ['convertible sofas', 'promotion convertible sofas'],\n ['convertible sofas', 'convertible sofas promo'],\n ['convertible sofas', 'promo convertible sofas'],\n ['convertible sofas', 'convertible sofas shop'],\n ['convertible sofas', 'shop convertible sofas'],\n ['convertible sofas', 'convertible sofas prices'],\n ['convertible sofas', 'prices convertible sofas'],\n ['convertible sofas', 'convertible sofas bought'],\n ['convertible sofas', 'bought convertible sofas'],\n ['love seats', 'love seats buy'],\n ['love seats', 'buy love seats'],\n ['love seats', 'love seats price'],\n ['love seats', 'price love seats'],\n ['love seats', 'love seats discount'],\n ['love seats', 'discount love seats'],\n ['love seats', 'love seats promotion'],\n ['love seats', 'promotion love seats'],\n ['love seats', 'love seats promo'],\n ['love seats', 'promo love seats'],\n ['love seats', 'love seats shop'],\n ['love seats', 'shop love seats'],\n ['love seats', 'love seats prices'],\n ['love seats', 'prices love seats'],\n ['love seats', 'love seats bought'],\n ['love seats', 'bought love seats'],\n ['recliners', 'recliners buy'],\n ['recliners', 'buy recliners'],\n ['recliners', 'recliners price'],\n ['recliners', 'price recliners'],\n ['recliners', 'recliners discount'],\n ['recliners', 'discount recliners'],\n ['recliners', 'recliners promotion'],\n ['recliners', 'promotion recliners'],\n ['recliners', 'recliners promo'],\n ['recliners', 'promo recliners'],\n ['recliners', 'recliners shop'],\n ['recliners', 'shop recliners'],\n ['recliners', 'recliners prices'],\n ['recliners', 'prices recliners'],\n ['recliners', 'recliners bought'],\n ['recliners', 'bought recliners'],\n ['sofa beds', 'sofa beds buy'],\n ['sofa beds', 'buy sofa beds'],\n ['sofa beds', 'sofa beds price'],\n ['sofa beds', 'price sofa beds'],\n ['sofa beds', 'sofa beds discount'],\n ['sofa beds', 'discount sofa beds'],\n ['sofa beds', 'sofa beds promotion'],\n ['sofa beds', 'promotion sofa beds'],\n ['sofa beds', 'sofa beds promo'],\n ['sofa beds', 'promo sofa beds'],\n ['sofa beds', 'sofa beds shop'],\n ['sofa beds', 'shop sofa beds'],\n ['sofa beds', 'sofa beds prices'],\n ['sofa beds', 'prices sofa beds'],\n ['sofa beds', 'sofa beds bought'],\n ['sofa beds', 'bought sofa beds']]\n"
     ]
    }
   ],
   "source": [
    "products = ['sofas', 'convertible sofas', 'love seats', 'recliners', 'sofa beds']\n",
    "\n",
    "# Create an empty list\n",
    "keywords_list = list()\n",
    "\n",
    "# Loop through products\n",
    "for product in products:\n",
    "    # Loop through words\n",
    "    for word in words:\n",
    "        # Append combinations\n",
    "        keywords_list.append([product, product + ' ' + word])\n",
    "        keywords_list.append([product, word + ' ' + product])\n",
    "        \n",
    "# Inspect keyword list\n",
    "from pprint import pprint\n",
    "pprint(keywords_list)"
   ]
  },
  {
   "cell_type": "markdown",
   "metadata": {
    "deletable": false,
    "dc": {
     "key": "18"
    },
    "run_control": {
     "frozen": true
    },
    "editable": false,
    "tags": [
     "context"
    ]
   },
   "source": [
    "## 3. Convert the list of lists into a DataFrame\n<p>Now we want to convert this list of lists into a DataFrame so we can easily manipulate it and manage the final output.</p>"
   ]
  },
  {
   "cell_type": "code",
   "execution_count": 9,
   "metadata": {
    "tags": [
     "sample_code"
    ],
    "trusted": true,
    "dc": {
     "key": "18"
    }
   },
   "outputs": [
    {
     "name": "stdout",
     "output_type": "stream",
     "text": [
      "                    0                            1\n0               sofas                    sofas buy\n1               sofas                    buy sofas\n2               sofas                  sofas price\n3               sofas                  price sofas\n4               sofas               sofas discount\n5               sofas               discount sofas\n6               sofas              sofas promotion\n7               sofas              promotion sofas\n8               sofas                  sofas promo\n9               sofas                  promo sofas\n10              sofas                   sofas shop\n11              sofas                   shop sofas\n12              sofas                 sofas prices\n13              sofas                 prices sofas\n14              sofas                 sofas bought\n15              sofas                 bought sofas\n16  convertible sofas        convertible sofas buy\n17  convertible sofas        buy convertible sofas\n18  convertible sofas      convertible sofas price\n19  convertible sofas      price convertible sofas\n20  convertible sofas   convertible sofas discount\n21  convertible sofas   discount convertible sofas\n22  convertible sofas  convertible sofas promotion\n23  convertible sofas  promotion convertible sofas\n24  convertible sofas      convertible sofas promo\n25  convertible sofas      promo convertible sofas\n26  convertible sofas       convertible sofas shop\n27  convertible sofas       shop convertible sofas\n28  convertible sofas     convertible sofas prices\n29  convertible sofas     prices convertible sofas\n..                ...                          ...\n50          recliners              recliners price\n51          recliners              price recliners\n52          recliners           recliners discount\n53          recliners           discount recliners\n54          recliners          recliners promotion\n55          recliners          promotion recliners\n56          recliners              recliners promo\n57          recliners              promo recliners\n58          recliners               recliners shop\n59          recliners               shop recliners\n60          recliners             recliners prices\n61          recliners             prices recliners\n62          recliners             recliners bought\n63          recliners             bought recliners\n64          sofa beds                sofa beds buy\n65          sofa beds                buy sofa beds\n66          sofa beds              sofa beds price\n67          sofa beds              price sofa beds\n68          sofa beds           sofa beds discount\n69          sofa beds           discount sofa beds\n70          sofa beds          sofa beds promotion\n71          sofa beds          promotion sofa beds\n72          sofa beds              sofa beds promo\n73          sofa beds              promo sofa beds\n74          sofa beds               sofa beds shop\n75          sofa beds               shop sofa beds\n76          sofa beds             sofa beds prices\n77          sofa beds             prices sofa beds\n78          sofa beds             sofa beds bought\n79          sofa beds             bought sofa beds\n\n[80 rows x 2 columns]\n"
     ]
    },
    {
     "data": {
      "text/html": [
       "<div>\n<style scoped>\n    .dataframe tbody tr th:only-of-type {\n        vertical-align: middle;\n    }\n\n    .dataframe tbody tr th {\n        vertical-align: top;\n    }\n\n    .dataframe thead th {\n        text-align: right;\n    }\n</style>\n<table border=\"1\" class=\"dataframe\">\n  <thead>\n    <tr style=\"text-align: right;\">\n      <th></th>\n      <th>0</th>\n      <th>1</th>\n    </tr>\n  </thead>\n  <tbody>\n    <tr>\n      <th>0</th>\n      <td>sofas</td>\n      <td>sofas buy</td>\n    </tr>\n    <tr>\n      <th>1</th>\n      <td>sofas</td>\n      <td>buy sofas</td>\n    </tr>\n    <tr>\n      <th>2</th>\n      <td>sofas</td>\n      <td>sofas price</td>\n    </tr>\n    <tr>\n      <th>3</th>\n      <td>sofas</td>\n      <td>price sofas</td>\n    </tr>\n    <tr>\n      <th>4</th>\n      <td>sofas</td>\n      <td>sofas discount</td>\n    </tr>\n  </tbody>\n</table>\n</div>"
      ],
      "text/plain": [
       "       0               1\n0  sofas       sofas buy\n1  sofas       buy sofas\n2  sofas     sofas price\n3  sofas     price sofas\n4  sofas  sofas discount"
      ]
     },
     "execution_count": 9,
     "metadata": {},
     "output_type": "execute_result"
    }
   ],
   "source": [
    "# Load library\n",
    "import pandas as pd\n",
    "# ... YOUR CODE FOR TASK 3 ...\n",
    "\n",
    "# Create a DataFrame from list\n",
    "keywords_df = pd.DataFrame.from_records(keywords_list)\n",
    "\n",
    "# Print the keywords DataFrame to explore it\n",
    "print(keywords_df)\n",
    "# ... YOUR CODE FOR TASK 3 ...\n",
    "keywords_df.head()"
   ]
  },
  {
   "cell_type": "markdown",
   "metadata": {
    "deletable": false,
    "dc": {
     "key": "25"
    },
    "run_control": {
     "frozen": true
    },
    "editable": false,
    "tags": [
     "context"
    ]
   },
   "source": [
    "## 4. Rename the columns of the DataFrame\n<p>Before we can upload this table of keywords, we will need to give the columns meaningful names. If we inspect the DataFrame we just created above, we can see that the columns are currently named <code>0</code> and <code>1</code>. <code>Ad Group</code> (example: \"sofas\") and <code>Keyword</code> (example: \"sofas buy\") are much more appropriate names.</p>"
   ]
  },
  {
   "cell_type": "code",
   "execution_count": 20,
   "metadata": {
    "tags": [
     "sample_code"
    ],
    "trusted": true,
    "dc": {
     "key": "25"
    }
   },
   "outputs": [],
   "source": [
    "# Rename the columns of the DataFrame\n",
    "\n",
    "keywords_df = pd.DataFrame(keywords_list).rename(columns = {0:'Ad Group',1:'Keyword'})\n"
   ]
  },
  {
   "cell_type": "markdown",
   "metadata": {
    "deletable": false,
    "dc": {
     "key": "32"
    },
    "run_control": {
     "frozen": true
    },
    "editable": false,
    "tags": [
     "context"
    ]
   },
   "source": [
    "## 5. Add a campaign column\n<p>Now we need to add some additional information to our DataFrame. \nWe need a new column called <code>Campaign</code> for the campaign name. We want campaign names to be descriptive of our group of keywords and products, so let's call this campaign 'SEM_Sofas'.</p>"
   ]
  },
  {
   "cell_type": "code",
   "execution_count": 23,
   "metadata": {
    "tags": [
     "sample_code"
    ],
    "trusted": true,
    "dc": {
     "key": "32"
    }
   },
   "outputs": [
    {
     "name": "stdout",
     "output_type": "stream",
     "text": [
      "     Campaign           Ad Group                      Keyword\n0   SEM_Sofas              sofas                    sofas buy\n1   SEM_Sofas              sofas                    buy sofas\n2   SEM_Sofas              sofas                  sofas price\n3   SEM_Sofas              sofas                  price sofas\n4   SEM_Sofas              sofas               sofas discount\n5   SEM_Sofas              sofas               discount sofas\n6   SEM_Sofas              sofas              sofas promotion\n7   SEM_Sofas              sofas              promotion sofas\n8   SEM_Sofas              sofas                  sofas promo\n9   SEM_Sofas              sofas                  promo sofas\n10  SEM_Sofas              sofas                   sofas shop\n11  SEM_Sofas              sofas                   shop sofas\n12  SEM_Sofas              sofas                 sofas prices\n13  SEM_Sofas              sofas                 prices sofas\n14  SEM_Sofas              sofas                 sofas bought\n15  SEM_Sofas              sofas                 bought sofas\n16  SEM_Sofas  convertible sofas        convertible sofas buy\n17  SEM_Sofas  convertible sofas        buy convertible sofas\n18  SEM_Sofas  convertible sofas      convertible sofas price\n19  SEM_Sofas  convertible sofas      price convertible sofas\n20  SEM_Sofas  convertible sofas   convertible sofas discount\n21  SEM_Sofas  convertible sofas   discount convertible sofas\n22  SEM_Sofas  convertible sofas  convertible sofas promotion\n23  SEM_Sofas  convertible sofas  promotion convertible sofas\n24  SEM_Sofas  convertible sofas      convertible sofas promo\n25  SEM_Sofas  convertible sofas      promo convertible sofas\n26  SEM_Sofas  convertible sofas       convertible sofas shop\n27  SEM_Sofas  convertible sofas       shop convertible sofas\n28  SEM_Sofas  convertible sofas     convertible sofas prices\n29  SEM_Sofas  convertible sofas     prices convertible sofas\n..        ...                ...                          ...\n50  SEM_Sofas          recliners              recliners price\n51  SEM_Sofas          recliners              price recliners\n52  SEM_Sofas          recliners           recliners discount\n53  SEM_Sofas          recliners           discount recliners\n54  SEM_Sofas          recliners          recliners promotion\n55  SEM_Sofas          recliners          promotion recliners\n56  SEM_Sofas          recliners              recliners promo\n57  SEM_Sofas          recliners              promo recliners\n58  SEM_Sofas          recliners               recliners shop\n59  SEM_Sofas          recliners               shop recliners\n60  SEM_Sofas          recliners             recliners prices\n61  SEM_Sofas          recliners             prices recliners\n62  SEM_Sofas          recliners             recliners bought\n63  SEM_Sofas          recliners             bought recliners\n64  SEM_Sofas          sofa beds                sofa beds buy\n65  SEM_Sofas          sofa beds                buy sofa beds\n66  SEM_Sofas          sofa beds              sofa beds price\n67  SEM_Sofas          sofa beds              price sofa beds\n68  SEM_Sofas          sofa beds           sofa beds discount\n69  SEM_Sofas          sofa beds           discount sofa beds\n70  SEM_Sofas          sofa beds          sofa beds promotion\n71  SEM_Sofas          sofa beds          promotion sofa beds\n72  SEM_Sofas          sofa beds              sofa beds promo\n73  SEM_Sofas          sofa beds              promo sofa beds\n74  SEM_Sofas          sofa beds               sofa beds shop\n75  SEM_Sofas          sofa beds               shop sofa beds\n76  SEM_Sofas          sofa beds             sofa beds prices\n77  SEM_Sofas          sofa beds             prices sofa beds\n78  SEM_Sofas          sofa beds             sofa beds bought\n79  SEM_Sofas          sofa beds             bought sofa beds\n\n[80 rows x 3 columns]\n"
     ]
    }
   ],
   "source": [
    "# Add a campaign column\n",
    "# ... YOUR CODE FOR TASK 5 ...\n",
    "keywords_df['Campaign']= 'SEM_Sofas'\n"
   ]
  },
  {
   "cell_type": "markdown",
   "metadata": {
    "deletable": false,
    "dc": {
     "key": "39"
    },
    "run_control": {
     "frozen": true
    },
    "editable": false,
    "tags": [
     "context"
    ]
   },
   "source": [
    "## 6. Create the match type column\n<p>There are different keyword match types. One is exact match, which is for matching the exact term or are close variations of that exact term. Another match type is broad match, which means ads may show on searches that include misspellings, synonyms, related searches, and other relevant variations.</p>\n<p>Straight from Google's AdWords <a href=\"https://support.google.com/google-ads/answer/2497836?hl=en\">documentation</a>:</p>\n<blockquote>\n  <p>In general, the broader the match type, the more traffic potential that keyword will have, since your ads may be triggered more often. Conversely, a narrower match type means that your ads may show less often—but when they do, they’re likely to be more related to someone’s search.</p>\n</blockquote>\n<p>Since the client is tight on budget, we want to make sure all the keywords are in exact match at the beginning.</p>"
   ]
  },
  {
   "cell_type": "code",
   "execution_count": 24,
   "metadata": {
    "tags": [
     "sample_code"
    ],
    "trusted": true,
    "dc": {
     "key": "39"
    }
   },
   "outputs": [
    {
     "name": "stdout",
     "output_type": "stream",
     "text": [
      "     Campaign           Ad Group                      Keyword Criterion Type\n0   SEM_Sofas              sofas                    sofas buy          Exact\n1   SEM_Sofas              sofas                    buy sofas          Exact\n2   SEM_Sofas              sofas                  sofas price          Exact\n3   SEM_Sofas              sofas                  price sofas          Exact\n4   SEM_Sofas              sofas               sofas discount          Exact\n5   SEM_Sofas              sofas               discount sofas          Exact\n6   SEM_Sofas              sofas              sofas promotion          Exact\n7   SEM_Sofas              sofas              promotion sofas          Exact\n8   SEM_Sofas              sofas                  sofas promo          Exact\n9   SEM_Sofas              sofas                  promo sofas          Exact\n10  SEM_Sofas              sofas                   sofas shop          Exact\n11  SEM_Sofas              sofas                   shop sofas          Exact\n12  SEM_Sofas              sofas                 sofas prices          Exact\n13  SEM_Sofas              sofas                 prices sofas          Exact\n14  SEM_Sofas              sofas                 sofas bought          Exact\n15  SEM_Sofas              sofas                 bought sofas          Exact\n16  SEM_Sofas  convertible sofas        convertible sofas buy          Exact\n17  SEM_Sofas  convertible sofas        buy convertible sofas          Exact\n18  SEM_Sofas  convertible sofas      convertible sofas price          Exact\n19  SEM_Sofas  convertible sofas      price convertible sofas          Exact\n20  SEM_Sofas  convertible sofas   convertible sofas discount          Exact\n21  SEM_Sofas  convertible sofas   discount convertible sofas          Exact\n22  SEM_Sofas  convertible sofas  convertible sofas promotion          Exact\n23  SEM_Sofas  convertible sofas  promotion convertible sofas          Exact\n24  SEM_Sofas  convertible sofas      convertible sofas promo          Exact\n25  SEM_Sofas  convertible sofas      promo convertible sofas          Exact\n26  SEM_Sofas  convertible sofas       convertible sofas shop          Exact\n27  SEM_Sofas  convertible sofas       shop convertible sofas          Exact\n28  SEM_Sofas  convertible sofas     convertible sofas prices          Exact\n29  SEM_Sofas  convertible sofas     prices convertible sofas          Exact\n..        ...                ...                          ...            ...\n50  SEM_Sofas          recliners              recliners price          Exact\n51  SEM_Sofas          recliners              price recliners          Exact\n52  SEM_Sofas          recliners           recliners discount          Exact\n53  SEM_Sofas          recliners           discount recliners          Exact\n54  SEM_Sofas          recliners          recliners promotion          Exact\n55  SEM_Sofas          recliners          promotion recliners          Exact\n56  SEM_Sofas          recliners              recliners promo          Exact\n57  SEM_Sofas          recliners              promo recliners          Exact\n58  SEM_Sofas          recliners               recliners shop          Exact\n59  SEM_Sofas          recliners               shop recliners          Exact\n60  SEM_Sofas          recliners             recliners prices          Exact\n61  SEM_Sofas          recliners             prices recliners          Exact\n62  SEM_Sofas          recliners             recliners bought          Exact\n63  SEM_Sofas          recliners             bought recliners          Exact\n64  SEM_Sofas          sofa beds                sofa beds buy          Exact\n65  SEM_Sofas          sofa beds                buy sofa beds          Exact\n66  SEM_Sofas          sofa beds              sofa beds price          Exact\n67  SEM_Sofas          sofa beds              price sofa beds          Exact\n68  SEM_Sofas          sofa beds           sofa beds discount          Exact\n69  SEM_Sofas          sofa beds           discount sofa beds          Exact\n70  SEM_Sofas          sofa beds          sofa beds promotion          Exact\n71  SEM_Sofas          sofa beds          promotion sofa beds          Exact\n72  SEM_Sofas          sofa beds              sofa beds promo          Exact\n73  SEM_Sofas          sofa beds              promo sofa beds          Exact\n74  SEM_Sofas          sofa beds               sofa beds shop          Exact\n75  SEM_Sofas          sofa beds               shop sofa beds          Exact\n76  SEM_Sofas          sofa beds             sofa beds prices          Exact\n77  SEM_Sofas          sofa beds             prices sofa beds          Exact\n78  SEM_Sofas          sofa beds             sofa beds bought          Exact\n79  SEM_Sofas          sofa beds             bought sofa beds          Exact\n\n[80 rows x 4 columns]\n"
     ]
    }
   ],
   "source": [
    "# Add a criterion type column\n",
    "keywords_df['Criterion Type']= 'Exact'\n",
    "\n",
    "# ... YOUR CODE FOR TASK 6 ..."
   ]
  },
  {
   "cell_type": "markdown",
   "metadata": {
    "deletable": false,
    "dc": {
     "key": "46"
    },
    "run_control": {
     "frozen": true
    },
    "editable": false,
    "tags": [
     "context"
    ]
   },
   "source": [
    "## 7. Duplicate all the keywords into 'phrase' match\n<p>The great thing about exact match is that it is very specific, and we can control the process very well. The tradeoff, however, is that:  </p>\n<ol>\n<li>The search volume for exact match is lower than other match types</li>\n<li>We can't possibly think of all the ways in which people search, and so, we are probably missing out on some high-quality keywords.</li>\n</ol>\n<p>So it's good to use another match called <em>phrase match</em> as a discovery mechanism to allow our ads to be triggered by keywords that include our exact match keywords, together with anything before (or after) them.</p>\n<p>Later on, when we launch the campaign, we can explore with modified broad match, broad match, and negative match types, for better visibility and control of our campaigns.</p>"
   ]
  },
  {
   "cell_type": "code",
   "execution_count": 27,
   "metadata": {
    "tags": [
     "sample_code"
    ],
    "trusted": true,
    "dc": {
     "key": "46"
    }
   },
   "outputs": [
    {
     "name": "stdout",
     "output_type": "stream",
     "text": [
      "     Campaign           Ad Group                      Keyword Criterion Type\n0   SEM_Sofas              sofas                    sofas buy          Exact\n1   SEM_Sofas              sofas                    buy sofas          Exact\n2   SEM_Sofas              sofas                  sofas price          Exact\n3   SEM_Sofas              sofas                  price sofas          Exact\n4   SEM_Sofas              sofas               sofas discount          Exact\n5   SEM_Sofas              sofas               discount sofas          Exact\n6   SEM_Sofas              sofas              sofas promotion          Exact\n7   SEM_Sofas              sofas              promotion sofas          Exact\n8   SEM_Sofas              sofas                  sofas promo          Exact\n9   SEM_Sofas              sofas                  promo sofas          Exact\n10  SEM_Sofas              sofas                   sofas shop          Exact\n11  SEM_Sofas              sofas                   shop sofas          Exact\n12  SEM_Sofas              sofas                 sofas prices          Exact\n13  SEM_Sofas              sofas                 prices sofas          Exact\n14  SEM_Sofas              sofas                 sofas bought          Exact\n15  SEM_Sofas              sofas                 bought sofas          Exact\n16  SEM_Sofas  convertible sofas        convertible sofas buy          Exact\n17  SEM_Sofas  convertible sofas        buy convertible sofas          Exact\n18  SEM_Sofas  convertible sofas      convertible sofas price          Exact\n19  SEM_Sofas  convertible sofas      price convertible sofas          Exact\n20  SEM_Sofas  convertible sofas   convertible sofas discount          Exact\n21  SEM_Sofas  convertible sofas   discount convertible sofas          Exact\n22  SEM_Sofas  convertible sofas  convertible sofas promotion          Exact\n23  SEM_Sofas  convertible sofas  promotion convertible sofas          Exact\n24  SEM_Sofas  convertible sofas      convertible sofas promo          Exact\n25  SEM_Sofas  convertible sofas      promo convertible sofas          Exact\n26  SEM_Sofas  convertible sofas       convertible sofas shop          Exact\n27  SEM_Sofas  convertible sofas       shop convertible sofas          Exact\n28  SEM_Sofas  convertible sofas     convertible sofas prices          Exact\n29  SEM_Sofas  convertible sofas     prices convertible sofas          Exact\n..        ...                ...                          ...            ...\n50  SEM_Sofas          recliners              recliners price         Phrase\n51  SEM_Sofas          recliners              price recliners         Phrase\n52  SEM_Sofas          recliners           recliners discount         Phrase\n53  SEM_Sofas          recliners           discount recliners         Phrase\n54  SEM_Sofas          recliners          recliners promotion         Phrase\n55  SEM_Sofas          recliners          promotion recliners         Phrase\n56  SEM_Sofas          recliners              recliners promo         Phrase\n57  SEM_Sofas          recliners              promo recliners         Phrase\n58  SEM_Sofas          recliners               recliners shop         Phrase\n59  SEM_Sofas          recliners               shop recliners         Phrase\n60  SEM_Sofas          recliners             recliners prices         Phrase\n61  SEM_Sofas          recliners             prices recliners         Phrase\n62  SEM_Sofas          recliners             recliners bought         Phrase\n63  SEM_Sofas          recliners             bought recliners         Phrase\n64  SEM_Sofas          sofa beds                sofa beds buy         Phrase\n65  SEM_Sofas          sofa beds                buy sofa beds         Phrase\n66  SEM_Sofas          sofa beds              sofa beds price         Phrase\n67  SEM_Sofas          sofa beds              price sofa beds         Phrase\n68  SEM_Sofas          sofa beds           sofa beds discount         Phrase\n69  SEM_Sofas          sofa beds           discount sofa beds         Phrase\n70  SEM_Sofas          sofa beds          sofa beds promotion         Phrase\n71  SEM_Sofas          sofa beds          promotion sofa beds         Phrase\n72  SEM_Sofas          sofa beds              sofa beds promo         Phrase\n73  SEM_Sofas          sofa beds              promo sofa beds         Phrase\n74  SEM_Sofas          sofa beds               sofa beds shop         Phrase\n75  SEM_Sofas          sofa beds               shop sofa beds         Phrase\n76  SEM_Sofas          sofa beds             sofa beds prices         Phrase\n77  SEM_Sofas          sofa beds             prices sofa beds         Phrase\n78  SEM_Sofas          sofa beds             sofa beds bought         Phrase\n79  SEM_Sofas          sofa beds             bought sofa beds         Phrase\n\n[160 rows x 4 columns]\n"
     ]
    }
   ],
   "source": [
    "# Make a copy of the keywords DataFrame\n",
    "keywords_phrase = keywords_df.copy()\n",
    "\n",
    "# Change criterion type match to phrase\n",
    "keywords_phrase['Criterion Type']='Phrase'\n",
    "# ... YOUR CODE FOR TASK 7 ...\n",
    "\n",
    "# Append the DataFrames\n",
    "keywords_df_final = keywords_df.append(keywords_phrase)\n"
   ]
  },
  {
   "cell_type": "markdown",
   "metadata": {
    "deletable": false,
    "dc": {
     "key": "53"
    },
    "run_control": {
     "frozen": true
    },
    "editable": false,
    "tags": [
     "context"
    ]
   },
   "source": [
    "## 8. Save and summarize!\n<p>To upload our campaign, we need to save it as a CSV file. Then we will be able to import it to AdWords editor or BingAds editor. There is also the option of pasting the data into the editor if we want, but having easy access to the saved data is great so let's save to a CSV file!</p>\n<p>Looking at a summary of our campaign structure is good now that we've wrapped up our keyword work. We can do that by grouping by ad group and criterion type and counting by keyword. This summary shows us that we assigned specific keywords to specific ad groups, which are each part of a campaign. In essence, we are telling Google (or Bing, etc.) that we want any of the words in each ad group to trigger one of the ads in the same ad group. Separately, we will have to create another table for ads, which is a task for another day and would look something like this:</p>\n<table>\n<thead>\n<tr>\n<th>Campaign</th>\n<th>Ad Group</th>\n<th>Headline 1</th>\n<th>Headline 2</th>\n<th>Description</th>\n<th>Final URL</th>\n</tr>\n</thead>\n<tbody>\n<tr>\n<td>SEM_Sofas</td>\n<td>Sofas</td>\n<td>Looking for Quality Sofas?</td>\n<td>Explore Our Massive Collection</td>\n<td>30-day Returns With Free Delivery Within the US. Start Shopping Now</td>\n<td>DataCampSofas.com/sofas</td>\n</tr>\n<tr>\n<td>SEM_Sofas</td>\n<td>Sofas</td>\n<td>Looking for Affordable Sofas?</td>\n<td>Check Out Our Weekly Offers</td>\n<td>30-day Returns With Free Delivery Within the US. Start Shopping Now</td>\n<td>DataCampSofas.com/sofas</td>\n</tr>\n<tr>\n<td>SEM_Sofas</td>\n<td>Recliners</td>\n<td>Looking for Quality Recliners?</td>\n<td>Explore Our Massive Collection</td>\n<td>30-day Returns With Free Delivery Within the US. Start Shopping Now</td>\n<td>DataCampSofas.com/recliners</td>\n</tr>\n<tr>\n<td>SEM_Sofas</td>\n<td>Recliners</td>\n<td>Need Affordable Recliners?</td>\n<td>Check Out Our Weekly Offers</td>\n<td>30-day Returns With Free Delivery Within the US. Start Shopping Now</td>\n<td>DataCampSofas.com/recliners</td>\n</tr>\n</tbody>\n</table>\n<p>Together, these tables get us the sample <strong>keywords -> ads -> landing pages</strong> mapping shown in the diagram below.</p>\n<p><img src=\"https://assets.datacamp.com/production/project_400/img/kwds_ads_lpages.png\" alt=\"Keywords-Ads-Landing pages flow\"></p>"
   ]
  },
  {
   "cell_type": "code",
   "execution_count": 31,
   "metadata": {
    "tags": [
     "sample_code"
    ],
    "trusted": true,
    "dc": {
     "key": "53"
    }
   },
   "outputs": [
    {
     "ename": "NameError",
     "evalue": "name 'keywords' is not defined",
     "traceback": [
      "---------------------------------------------------------------------------",
      "NameError                                 Traceback (most recent call last)",
      "<ipython-input-31-ade42884e26f> in <module>()\n      1 # Save the final keywords to a CSV file\n      2 # ... YOUR CODE FOR TASK 8 ...\n----> 3 keywords_df_final.to_csv(keywords, index= False)\n      4 # View a summary of our campaign work\n      5 summary = keywords_df_final.groupby(['Ad Group', 'Criterion Type'])['Keyword'].count()\n",
      "NameError: name 'keywords' is not defined"
     ],
     "output_type": "error"
    }
   ],
   "source": [
    "# Save the final keywords to a CSV file\n",
    "# ... YOUR CODE FOR TASK 8 ...\n",
    "keywords_df_final.to_csv('keywords.csv'', index= False)\n",
    "# View a summary of our campaign work\n",
    "summary = keywords_df_final.groupby(['Ad Group', 'Criterion Type'])['Keyword'].count()\n",
    "print(summary)"
   ]
  }
 ],
 "metadata": {
  "language_info": {
   "codemirror_mode": {
    "version": 3,
    "name": "ipython"
   },
   "nbconvert_exporter": "python",
   "pygments_lexer": "ipython3",
   "mimetype": "text/x-python",
   "file_extension": ".py",
   "version": "3.5.2",
   "name": "python"
  },
  "kernelspec": {
   "language": "python",
   "name": "python3",
   "display_name": "Python 3"
  }
 },
 "nbformat": 4,
 "nbformat_minor": 2
}
